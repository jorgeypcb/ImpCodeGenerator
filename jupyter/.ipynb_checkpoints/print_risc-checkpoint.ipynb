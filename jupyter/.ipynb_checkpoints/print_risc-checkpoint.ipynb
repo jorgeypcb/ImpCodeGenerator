{
 "cells": [
  {
   "cell_type": "code",
   "execution_count": 33,
   "id": "68adb3ac",
   "metadata": {},
   "outputs": [
    {
     "name": "stdout",
     "output_type": "stream",
     "text": [
      "['Plus', '1', '2', '3\\n']\n",
      "LW 1 a0\n",
      "LW 2 a1\n",
      "ADD a1 a1 a0\n",
      "SW a1 3\n",
      "\n",
      "\n",
      "['Minus', '1', '2', '3\\n']\n",
      "LW 1 a0\n",
      "LW 2 a1\n",
      "SUB a1 a1 a0\n",
      "SW a1 3\n",
      "\n",
      "\n",
      "['Times', '1', '2', '3\\n']\n",
      "LW 1 a0\n",
      "LW 2 a1\n",
      "MUL a1 a1 a0\n",
      "SW a1 3\n",
      "\n",
      "\n",
      "['Greater', '1', '2', '3\\n']\n"
     ]
    },
    {
     "ename": "NameError",
     "evalue": "name 'instructio' is not defined",
     "output_type": "error",
     "traceback": [
      "\u001b[0;31m---------------------------------------------------------------------------\u001b[0m",
      "\u001b[0;31mNameError\u001b[0m                                 Traceback (most recent call last)",
      "\u001b[0;32m/var/folders/8r/8vmhhzp55hb927_1dsxvm7980000gn/T/ipykernel_7112/1807825542.py\u001b[0m in \u001b[0;36m<module>\u001b[0;34m\u001b[0m\n\u001b[1;32m     46\u001b[0m     \u001b[0;32mfor\u001b[0m \u001b[0minst\u001b[0m \u001b[0;32min\u001b[0m \u001b[0minstructions\u001b[0m\u001b[0;34m:\u001b[0m\u001b[0;34m\u001b[0m\u001b[0;34m\u001b[0m\u001b[0m\n\u001b[1;32m     47\u001b[0m         \u001b[0mprint\u001b[0m\u001b[0;34m(\u001b[0m\u001b[0minst\u001b[0m\u001b[0;34m)\u001b[0m\u001b[0;34m\u001b[0m\u001b[0;34m\u001b[0m\u001b[0m\n\u001b[0;32m---> 48\u001b[0;31m         \u001b[0mprint\u001b[0m\u001b[0;34m(\u001b[0m\u001b[0mprint_instruction\u001b[0m\u001b[0;34m(\u001b[0m\u001b[0minst\u001b[0m\u001b[0;34m)\u001b[0m\u001b[0;34m)\u001b[0m\u001b[0;34m\u001b[0m\u001b[0;34m\u001b[0m\u001b[0m\n\u001b[0m\u001b[1;32m     49\u001b[0m \u001b[0;34m\u001b[0m\u001b[0m\n\u001b[1;32m     50\u001b[0m \u001b[0;34m\u001b[0m\u001b[0m\n",
      "\u001b[0;32m/var/folders/8r/8vmhhzp55hb927_1dsxvm7980000gn/T/ipykernel_7112/1807825542.py\u001b[0m in \u001b[0;36mprint_instruction\u001b[0;34m(instruction)\u001b[0m\n\u001b[1;32m     33\u001b[0m         \u001b[0mriscv_line1\u001b[0m \u001b[0;34m=\u001b[0m \u001b[0;34m\"LW \"\u001b[0m \u001b[0;34m+\u001b[0m \u001b[0minstruction\u001b[0m\u001b[0;34m[\u001b[0m\u001b[0;36m1\u001b[0m\u001b[0;34m]\u001b[0m \u001b[0;34m+\u001b[0m \u001b[0;34m\" a0\"\u001b[0m\u001b[0;34m\u001b[0m\u001b[0;34m\u001b[0m\u001b[0m\n\u001b[1;32m     34\u001b[0m         \u001b[0mriscv_line2\u001b[0m \u001b[0;34m=\u001b[0m \u001b[0;34m\"LW \"\u001b[0m \u001b[0;34m+\u001b[0m \u001b[0minstruction\u001b[0m\u001b[0;34m[\u001b[0m\u001b[0;36m2\u001b[0m\u001b[0;34m]\u001b[0m \u001b[0;34m+\u001b[0m \u001b[0;34m\" a1\"\u001b[0m\u001b[0;34m\u001b[0m\u001b[0;34m\u001b[0m\u001b[0m\n\u001b[0;32m---> 35\u001b[0;31m         \u001b[0mriscv_line3\u001b[0m \u001b[0;34m=\u001b[0m \u001b[0mname\u001b[0m \u001b[0;34m+\u001b[0m \u001b[0;34m\" \"\u001b[0m \u001b[0;34m+\u001b[0m \u001b[0;34m\"a0 a1 \"\u001b[0m \u001b[0;34m+\u001b[0m \u001b[0minstructio\u001b[0m\u001b[0;34m[\u001b[0m\u001b[0;36m3\u001b[0m\u001b[0;34m]\u001b[0m\u001b[0;34m\u001b[0m\u001b[0;34m\u001b[0m\u001b[0m\n\u001b[0m\u001b[1;32m     36\u001b[0m         \u001b[0mriscv_inst\u001b[0m \u001b[0;34m=\u001b[0m \u001b[0mriscv_line1\u001b[0m \u001b[0;34m+\u001b[0m \u001b[0;34m\"\\n\"\u001b[0m \u001b[0;34m+\u001b[0m \u001b[0mriscv_line2\u001b[0m \u001b[0;34m+\u001b[0m \u001b[0;34m\"\\n\"\u001b[0m \u001b[0;34m+\u001b[0m \u001b[0mriscv_line3\u001b[0m\u001b[0;34m\u001b[0m\u001b[0;34m\u001b[0m\u001b[0m\n\u001b[1;32m     37\u001b[0m \u001b[0;34m\u001b[0m\u001b[0m\n",
      "\u001b[0;31mNameError\u001b[0m: name 'instructio' is not defined"
     ]
    }
   ],
   "source": [
    "def print_instruction(instruction):\n",
    "    \n",
    "    if instruction[0] in [\"Plus\", \"Minus\", \"Times\"]:\n",
    "        name = instruction[0]\n",
    "        if name == \"Plus\":\n",
    "            name = \"ADD\"\n",
    "        elif name == \"Minus\":\n",
    "            name = \"SUB\"\n",
    "        elif name == \"Times\":\n",
    "            name = \"MUL\"\n",
    "                \n",
    "        riscv_line1 = \"LW \" + instruction[1] + \" a0\"\n",
    "        riscv_line2 = \"LW \" + instruction[2] + \" a1\"\n",
    "        riscv_line3 = name + \" \" + \"a1 a1 a0\"\n",
    "        riscv_line4 = \"SW a1 \" + instruction[3]\n",
    "        riscv_inst = riscv_line1 + \"\\n\" + riscv_line2 + \"\\n\" + riscv_line3 + \"\\n\" + riscv_line4 + \"\\n\"\n",
    "            \n",
    "        return riscv_inst\n",
    "    \n",
    "    elif instruction[0] in [\"Greater\", \"GreaterEq\", \"Equal\", \"And\", \"Or\"]:\n",
    "        name = instruction[0]\n",
    "        if name == \"Greater\":\n",
    "            name = \"BGT\"\n",
    "        elif name == \"GreaterEq\":\n",
    "            name = \"BGE\"\n",
    "        elif name == \"Equal\":\n",
    "            name = \"BEQ\"\n",
    "        elif name == \"And\":\n",
    "            name = \"AND\"\n",
    "        elif name == \"Or\":\n",
    "            name = \"OR\"\n",
    "            \n",
    "        riscv_line1 = \"LW \" + instruction[1] + \" a0\"\n",
    "        riscv_line2 = \"LW \" + instruction[2] + \" a1\"\n",
    "        riscv_line3 = name + \" \" + \"a0 a1 \" + instructio[3] \n",
    "        riscv_inst = riscv_line1 + \"\\n\" + riscv_line2 + \"\\n\" + riscv_line3\n",
    "        \n",
    "        return riscv_inst\n",
    "    \n",
    "with open('../example_op_file.txt', 'r') as f:\n",
    "    operations = f.readlines()\n",
    "    instructions = []\n",
    "    for operation in operations:\n",
    "        instruction = operation.split(' ')\n",
    "        instructions.append(instruction)\n",
    "    for inst in instructions:\n",
    "        print(inst)\n",
    "        print(print_instruction(inst))\n",
    "        \n",
    "    \n",
    "    \n",
    "    "
   ]
  },
  {
   "cell_type": "code",
   "execution_count": null,
   "id": "c6a4e972",
   "metadata": {},
   "outputs": [],
   "source": []
  }
 ],
 "metadata": {
  "kernelspec": {
   "display_name": "Python 3 (ipykernel)",
   "language": "python",
   "name": "python3"
  },
  "language_info": {
   "codemirror_mode": {
    "name": "ipython",
    "version": 3
   },
   "file_extension": ".py",
   "mimetype": "text/x-python",
   "name": "python",
   "nbconvert_exporter": "python",
   "pygments_lexer": "ipython3",
   "version": "3.9.7"
  }
 },
 "nbformat": 4,
 "nbformat_minor": 5
}
