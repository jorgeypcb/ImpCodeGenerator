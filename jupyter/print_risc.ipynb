{
 "cells": [
  {
   "cell_type": "code",
   "execution_count": 14,
   "id": "68adb3ac",
   "metadata": {},
   "outputs": [
    {
     "name": "stdout",
     "output_type": "stream",
     "text": [
      "['Plus', '1', '2', '3\\n']\n",
      "LW 1 a0\n",
      "LW 2 a1\n",
      "ADD a1 a1 a0\n",
      "SW a1 3\n",
      "\n",
      "\n",
      "['Minus', '1', '2', '3\\n']\n",
      "LW 1 a0\n",
      "LW 2 a1\n",
      "SUB a1 a1 a0\n",
      "SW a1 3\n",
      "\n",
      "\n",
      "['Times', '1', '2', '3\\n']\n",
      "LW 1 a0\n",
      "LW 2 a1\n",
      "MUL a1 a1 a0\n",
      "SW a1 3\n",
      "\n",
      "\n",
      "['Greater', '1', '2', '3\\n']\n",
      "LW 1 a0\n",
      "LW 2 a1\n",
      "BGT a0 a1 3\n",
      "\n",
      "\n",
      "['GreaterEq', '1', '2', '3\\n']\n",
      "LW 1 a0\n",
      "LW 2 a1\n",
      "BGE a0 a1 3\n",
      "\n",
      "\n",
      "['Equal', '1', '2', '3\\n']\n",
      "LW 1 a0\n",
      "LW 2 a1\n",
      "BEQ a0 a1 3\n",
      "\n",
      "\n",
      "['Or', '1', '2', '3\\n']\n",
      "LW 1 a0\n",
      "LW 2 a1\n",
      "OR a0 a1 3\n",
      "\n",
      "\n",
      "['And', '1', '2', '3\\n']\n",
      "LW 1 a0\n",
      "LW 2 a1\n",
      "AND a0 a1 3\n",
      "\n",
      "\n",
      "['Not', '1', 'null', '3\\n']\n"
     ]
    },
    {
     "ename": "KeyError",
     "evalue": "'Not'",
     "output_type": "error",
     "traceback": [
      "\u001b[0;31m---------------------------------------------------------------------------\u001b[0m",
      "\u001b[0;31mKeyError\u001b[0m                                  Traceback (most recent call last)",
      "\u001b[0;32m/var/folders/55/lcfmy8_x29515jvyj650zp9m0000gn/T/ipykernel_63155/2173034817.py\u001b[0m in \u001b[0;36m<module>\u001b[0;34m\u001b[0m\n\u001b[1;32m     34\u001b[0m     \u001b[0;32mfor\u001b[0m \u001b[0minst\u001b[0m \u001b[0;32min\u001b[0m \u001b[0minstructions\u001b[0m\u001b[0;34m:\u001b[0m\u001b[0;34m\u001b[0m\u001b[0;34m\u001b[0m\u001b[0m\n\u001b[1;32m     35\u001b[0m         \u001b[0mprint\u001b[0m\u001b[0;34m(\u001b[0m\u001b[0minst\u001b[0m\u001b[0;34m)\u001b[0m\u001b[0;34m\u001b[0m\u001b[0;34m\u001b[0m\u001b[0m\n\u001b[0;32m---> 36\u001b[0;31m         \u001b[0mprint\u001b[0m\u001b[0;34m(\u001b[0m\u001b[0mriscv\u001b[0m\u001b[0;34m(\u001b[0m\u001b[0minst\u001b[0m\u001b[0;34m)\u001b[0m\u001b[0;34m)\u001b[0m\u001b[0;34m\u001b[0m\u001b[0;34m\u001b[0m\u001b[0m\n\u001b[0m\u001b[1;32m     37\u001b[0m \u001b[0;34m\u001b[0m\u001b[0m\n\u001b[1;32m     38\u001b[0m \u001b[0;34m\u001b[0m\u001b[0m\n",
      "\u001b[0;32m/var/folders/55/lcfmy8_x29515jvyj650zp9m0000gn/T/ipykernel_63155/2173034817.py\u001b[0m in \u001b[0;36mriscv\u001b[0;34m(instruction)\u001b[0m\n\u001b[1;32m      7\u001b[0m     \u001b[0mopname\u001b[0m \u001b[0;34m=\u001b[0m \u001b[0marithop\u001b[0m \u001b[0;34m|\u001b[0m \u001b[0mboolop\u001b[0m \u001b[0;34m|\u001b[0m \u001b[0mjumpop\u001b[0m \u001b[0;31m##joins the above dictionaries\u001b[0m\u001b[0;34m\u001b[0m\u001b[0;34m\u001b[0m\u001b[0m\n\u001b[1;32m      8\u001b[0m \u001b[0;34m\u001b[0m\u001b[0m\n\u001b[0;32m----> 9\u001b[0;31m     \u001b[0mname\u001b[0m \u001b[0;34m=\u001b[0m \u001b[0mopname\u001b[0m\u001b[0;34m[\u001b[0m\u001b[0mop\u001b[0m\u001b[0;34m]\u001b[0m \u001b[0;31m##gets the riscv name of the instruction\u001b[0m\u001b[0;34m\u001b[0m\u001b[0;34m\u001b[0m\u001b[0m\n\u001b[0m\u001b[1;32m     10\u001b[0m \u001b[0;34m\u001b[0m\u001b[0m\n\u001b[1;32m     11\u001b[0m     \u001b[0;32mif\u001b[0m \u001b[0mop\u001b[0m \u001b[0;32min\u001b[0m \u001b[0marithop\u001b[0m\u001b[0;34m:\u001b[0m\u001b[0;34m\u001b[0m\u001b[0;34m\u001b[0m\u001b[0m\n",
      "\u001b[0;31mKeyError\u001b[0m: 'Not'"
     ]
    }
   ],
   "source": [
    "def riscv(instruction):\n",
    "    op,i0,i1,output = instruction ##assigns the instruction components\n",
    "    \n",
    "    arithop = {'Plus':'ADD','Minus':'SUB','Times':'MUL'}\n",
    "    boolop = {'Greater':'BGT','GreaterEq':'BGE','Equal':'BEQ','And':'AND','Or':'OR'}\n",
    "    jumpop = {'JumpIfZero':'BEQZ','JumpIfNonzero':'BNEZ'}\n",
    "    opname = arithop | boolop | jumpop ##joins the above dictionaries\n",
    "    \n",
    "    name = opname[op] ##gets the riscv name of the instruction\n",
    "    \n",
    "    if op in arithop:\n",
    "        riscv = \"LW \" + i0 + \" a0\" + '\\n' \\\n",
    "                + \"LW \" + i1 + \" a1\" + '\\n' \\\n",
    "                + name + \" \" + \"a1 a1 a0\" + '\\n' \\\n",
    "                + \"SW a1 \" + output + '\\n'\n",
    "    \n",
    "    elif op in boolop: \n",
    "        riscv = \"LW \" + i0 + \" a0\" + '\\n' \\\n",
    "                + \"LW \" + i1 + \" a1\" + '\\n' \\\n",
    "                + name + \" \" + \"a0 a1 \" + output + '\\n'\n",
    "    \n",
    "    elif op in jumpop:\n",
    "        riscv = \"LW \" + i0 + \" a0\" + '\\n' \\\n",
    "                + name + \" \" + \"a0 \" + i1 + '\\n'\n",
    "    \n",
    "    return riscv\n",
    "    \n",
    "with open('../example_op_file.txt', 'r') as f:\n",
    "    operations = f.readlines()\n",
    "    instructions = [o.split(' ') for o in operations]\n",
    "#     for operation in operations:\n",
    "#         instruction = operation.split(' ')\n",
    "#         instructions.append(instruction)\n",
    "    for inst in instructions:\n",
    "        print(inst)\n",
    "        print(riscv(inst))"
   ]
  },
  {
   "cell_type": "code",
   "execution_count": null,
   "id": "c6a4e972",
   "metadata": {},
   "outputs": [],
   "source": []
  }
 ],
 "metadata": {
  "kernelspec": {
   "display_name": "Python 3 (ipykernel)",
   "language": "python",
   "name": "python3"
  },
  "language_info": {
   "codemirror_mode": {
    "name": "ipython",
    "version": 3
   },
   "file_extension": ".py",
   "mimetype": "text/x-python",
   "name": "python",
   "nbconvert_exporter": "python",
   "pygments_lexer": "ipython3",
   "version": "3.9.7"
  }
 },
 "nbformat": 4,
 "nbformat_minor": 5
}
